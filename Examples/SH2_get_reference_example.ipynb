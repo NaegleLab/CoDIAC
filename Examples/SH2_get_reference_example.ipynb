{
 "cells": [
  {
   "cell_type": "markdown",
   "metadata": {},
   "source": [
    "# Fetch all reference files for an Interpro_ID of interest"
   ]
  },
  {
   "cell_type": "code",
   "execution_count": 18,
   "metadata": {},
   "outputs": [],
   "source": [
    "import CoDIAC\n",
    "\n",
    "Interpro_ID = 'IPR000980' #IPR000980 is the SH2 domain superfamily\n",
    "\n",
    "#We will be creating a lot of files, this is how we would like them to be named\n",
    "data_root = 'Data/Example_All_IPR/'\n",
    "name_root = 'SH2_'+Interpro_ID\n",
    "\n",
    "# The files we will make in this process (so that different pieces of code can be run below as needed)\n",
    "uniprot_reference_file = data_root+'Uniprot_Reference/'+name_root+'_uniprot_reference.csv' # The uniprot reference\n",
    "fasta_long_header_file = data_root + 'Uniprot_Reference/' + name_root+'_long_header.fasta'\n",
    "fasta_file = data_root + 'Uniprot_Reference/' + name_root+'.fasta'\n",
    "#note: in addition to these 3 files, this also makes a mapping file for movng between fasta_long_header_file and fasta_file\n",
    "\n",
    "#PDB Files we'll make in this process\n",
    "PDB_file = data_root + 'PDB_Reference/' + name_root + '_PDB.csv'\n",
    "PDB_file_annotated = data_root+ 'PDB_Reference/' + name_root + '_PDB_annotated.csv'\n",
    "PDB_file_filtered = data_root + 'PDB_Reference/' + name_root + '_PDB_reference.csv' #The final PDB structure file, containing only filtered proteins\n",
    "\n",
    "# PTMs feature directory location\n",
    "feature_dir = data_root+'Uniprot_Reference/Features_relative_to_reference/PTM_features/'\n",
    "\n",
    "# You can set offsets here for the family, used to reduce the \n",
    "N_OFFSET = 0\n",
    "C_OFFSET = -1\n"
   ]
  },
  {
   "attachments": {},
   "cell_type": "markdown",
   "metadata": {},
   "source": [
    "### STEP 1: Get all Uniprot IDs that match a family of interest\n"
   ]
  },
  {
   "cell_type": "code",
   "execution_count": 4,
   "metadata": {},
   "outputs": [
    {
     "name": "stdout",
     "output_type": "stream",
     "text": [
      "Fetched 109 Uniprot IDs linked to IPR000980, where count expected to be 109\n"
     ]
    }
   ],
   "source": [
    "uniprot_IDs, species_dict = CoDIAC.InterPro.fetch_uniprotids(Interpro_ID, REVIEWED=True, species='Homo sapiens')"
   ]
  },
  {
   "attachments": {},
   "cell_type": "markdown",
   "metadata": {},
   "source": [
    "### STEP 2: Make a human reference file of the family of interest"
   ]
  },
  {
   "cell_type": "code",
   "execution_count": 6,
   "metadata": {},
   "outputs": [
    {
     "name": "stdout",
     "output_type": "stream",
     "text": [
      "Domain Reference File successfully created!\n",
      "Adding Interpro Domains\n",
      "Fetching domains..\n",
      "Appending domains to file..\n",
      "Interpro metadata succesfully incorporated\n"
     ]
    }
   ],
   "source": [
    "# These uniprot_IDs (list) came from fetching all uniprot IDs for an Interpro ID, but\n",
    "# this could be a fixed list of interest, or even all unique IDs in a proteome\n",
    "uniprot_df = CoDIAC.UniProt.makeRefFile(uniprot_IDs, uniprot_reference_file)"
   ]
  },
  {
   "attachments": {},
   "cell_type": "markdown",
   "metadata": {},
   "source": [
    "### STEP 3: Get information about all PDB IDs that exist for the reference proteins of interest"
   ]
  },
  {
   "cell_type": "code",
   "execution_count": 7,
   "metadata": {},
   "outputs": [
    {
     "name": "stdout",
     "output_type": "stream",
     "text": [
      "Structure Reference File successfully created!\n",
      "All PDBs successfully fetched\n"
     ]
    }
   ],
   "source": [
    "\n",
    "CoDIAC.PDB.generateStructureRefFile_fromUniprotFile(uniprot_reference_file, PDB_file)"
   ]
  },
  {
   "attachments": {},
   "cell_type": "markdown",
   "metadata": {},
   "source": [
    "### STEP 4: Annotate the structure file with reference, for domain annotation"
   ]
  },
  {
   "cell_type": "code",
   "execution_count": 8,
   "metadata": {},
   "outputs": [],
   "source": [
    "struct_df_out = CoDIAC.IntegrateStructure_Reference.add_reference_info_to_struct_file(PDB_file, uniprot_reference_file, PDB_file_annotated, INTERPRO=True, verbose=False)"
   ]
  },
  {
   "cell_type": "markdown",
   "metadata": {},
   "source": [
    "### STEP 5: Reduce the structure file to just those that contain the domain of interest"
   ]
  },
  {
   "cell_type": "code",
   "execution_count": 9,
   "metadata": {},
   "outputs": [
    {
     "name": "stdout",
     "output_type": "stream",
     "text": [
      "Made Data/Example_All_IPR/PDB_Reference/SH2_IPR000980_PDB_reference.csv file: 475 structures retained of 1478 total\n"
     ]
    }
   ],
   "source": [
    "# Now with an appended PDB File, create an output that contains only the lines that have SH2 domains\n",
    "CoDIAC.IntegrateStructure_Reference.filter_structure_file(PDB_file_annotated, Interpro_ID, PDB_file_filtered)"
   ]
  },
  {
   "attachments": {},
   "cell_type": "markdown",
   "metadata": {},
   "source": [
    "### STEP 6: Create the FASTA Reference file for domain of interest"
   ]
  },
  {
   "cell_type": "code",
   "execution_count": 10,
   "metadata": {},
   "outputs": [
    {
     "name": "stdout",
     "output_type": "stream",
     "text": [
      "n offset is 0 and c offset is -1\n",
      "Created files: Data/Example_All_IPR/Uniprot_Reference/SH2_IPR000980.fasta and Data/Example_All_IPR/Uniprot_Reference/SH2_IPR000980_mapping.csv\n"
     ]
    }
   ],
   "source": [
    "# Given the SH2 domain file, create the fasta reference file (using INTERPRO as default)\n",
    "\n",
    "CoDIAC.UniProt.print_domain_fasta_file(uniprot_reference_file, Interpro_ID, fasta_long_header_file, N_OFFSET, C_OFFSET, APPEND=False)\n",
    "\n",
    "# Shortening the fasta headers, still unique for each domain/protein pair\n",
    "# dropping the redundant information about the domains printed. This creates a shorter header, useful for reading and processing\n",
    "key_array_order= ['uniprot', 'gene', 'domain_num', 'start', 'end']\n",
    "#translation creates a mapping file \n",
    "output_fasta, mapping_file = CoDIAC.UniProt.translate_fasta_to_new_headers(fasta_long_header_file, fasta_file, key_array_order)\n"
   ]
  },
  {
   "cell_type": "markdown",
   "metadata": {},
   "source": [
    "## STEP 7 Create the PTM feature files"
   ]
  },
  {
   "cell_type": "markdown",
   "metadata": {},
   "source": [
    "#### STEP 7a create the ProteomeScout based Features files"
   ]
  },
  {
   "cell_type": "code",
   "execution_count": 19,
   "metadata": {},
   "outputs": [
    {
     "name": "stdout",
     "output_type": "stream",
     "text": [
      "n offset is 0 and c offset is -1\n",
      "n offset is 0 and c offset is -1\n",
      "Error: PTM record not found by Q7Z4S9\n",
      "Error: PTM record not found by Q7Z4S9\n",
      "Error: PTM record not found by Q8TC17\n",
      "Error: PTM record not found by Q8TC17\n",
      "Wrote these feature files:\n",
      "['Data/Example_All_IPR/Uniprot_Reference/Features_relative_to_reference/PTM_features/ProteomeScout/IPR000980_Phosphotyrosine.feature', 'Data/Example_All_IPR/Uniprot_Reference/Features_relative_to_reference/PTM_features/ProteomeScout/IPR000980_N6-acetyllysine.feature', 'Data/Example_All_IPR/Uniprot_Reference/Features_relative_to_reference/PTM_features/ProteomeScout/IPR000980_Phosphothreonine.feature', 'Data/Example_All_IPR/Uniprot_Reference/Features_relative_to_reference/PTM_features/ProteomeScout/IPR000980_Phosphoserine.feature', 'Data/Example_All_IPR/Uniprot_Reference/Features_relative_to_reference/PTM_features/ProteomeScout/IPR000980_Ubiquitination.feature']\n",
      "These belong to the following fasta file:\n",
      "Data/Example_All_IPR/Uniprot_Reference/SH2_IPR000980.fasta\n",
      "{'Phosphotyrosine': 182, 'N6-acetyllysine': 32, 'Phosphothreonine': 61, 'Phosphoserine': 149, 'Ubiquitination': 59, 'Sumoylation': 3, 'Methylation': 1, 'N6,N6-dimethyllysine': 2}\n"
     ]
    }
   ],
   "source": [
    "feature_dir_prot = feature_dir+'ProteomeScout/'\n",
    "ptm_feature_file_list_pscout, ptm_count_dict, ptm_feature_dict, mapping_dict = CoDIAC.PTM.write_PTM_features(Interpro_ID, uniprot_reference_file, feature_dir_prot, mapping_file, N_OFFSET, C_OFFSET, gap_threshold=0.7, num_PTM_threshold = 5)\n",
    "print(\"Wrote these feature files:\")\n",
    "print(ptm_feature_file_list_pscout)\n",
    "print(\"These belong to the following fasta file:\")\n",
    "print(output_fasta) #comes from block above - the short header format of the fasta header\n",
    "print(ptm_count_dict)"
   ]
  },
  {
   "cell_type": "markdown",
   "metadata": {},
   "source": [
    "#### STEP 7b create the PhosphoSite based Features files"
   ]
  },
  {
   "cell_type": "code",
   "execution_count": 20,
   "metadata": {},
   "outputs": [
    {
     "name": "stdout",
     "output_type": "stream",
     "text": [
      "n offset is 0 and c offset is -1\n",
      "n offset is 0 and c offset is -1\n",
      "Found no mods for Q7Z4S9\n",
      "Found no mods for Q9HBL0\n",
      "Using an isoform for PTMs Q9HBL0-1, found mods\n",
      "S2-Phosphoserine;S4-Phosphoserine;T68-Phosphothreonine;T84-Phosphothreonine;S92-Phosphoserine;S170-Phosphoserine;Y210-Phosphotyrosine;Y217-Phosphotyrosine;S257-Phosphoserine;Y327-Phosphotyrosine;T329-Phosphothreonine;S330-Phosphoserine;S338-Phosphoserine;Y339-Phosphotyrosine;S343-Phosphoserine;T357-Phosphothreonine;S364-Phosphoserine;Y366-Phosphotyrosine;S374-Phosphoserine;S378-Phosphoserine;T379-Phosphothreonine;S390-Phosphoserine;T399-Phosphothreonine;S401-Phosphoserine;S403-Phosphoserine;S404-Phosphoserine;S406-Phosphoserine;S433-Phosphoserine;S445-Phosphoserine;Y458-Phosphotyrosine;T460-Phosphothreonine;S465-Phosphoserine;S471-Phosphoserine;S475-Phosphoserine;T498-Phosphothreonine;S512-Phosphoserine;T518-Phosphothreonine;S538-Phosphoserine;S547-Phosphoserine;Y561-Phosphotyrosine;T575-Phosphothreonine;Y582-Phosphotyrosine;S583-Phosphoserine;Y591-Phosphotyrosine;T605-Phosphothreonine;T606-Phosphothreonine;S607-Phosphoserine;Y609-Phosphotyrosine;S614-Phosphoserine;S619-Phosphoserine;S621-Phosphoserine;S623-Phosphoserine;S638-Phosphoserine;S649-Phosphoserine;S674-Phosphoserine;S681-Phosphoserine;T688-Phosphothreonine;S692-Phosphoserine;S701-Phosphoserine;S708-Phosphoserine;T711-Phosphothreonine;S731-Phosphoserine;S733-Phosphoserine;S742-Phosphoserine;S746-Phosphoserine;S756-Phosphoserine;S762-Phosphoserine;S764-Phosphoserine;Y766-Phosphotyrosine;S769-Phosphoserine;S772-Phosphoserine;T775-Phosphothreonine;S783-Phosphoserine;S786-Phosphoserine;Y793-Phosphotyrosine;S794-Phosphoserine;Y796-Phosphotyrosine;Y798-Phosphotyrosine;S813-Phosphoserine;S838-Phosphoserine;T843-Phosphothreonine;S849-Phosphoserine;T854-Phosphothreonine;S855-Phosphoserine;S858-Phosphoserine;T860-Phosphothreonine;S899-Phosphoserine;Y903-Phosphotyrosine;S907-Phosphoserine;T911-Phosphothreonine;S912-Phosphoserine;S915-Phosphoserine;S920-Phosphoserine;S926-Phosphoserine;S948-Phosphoserine;T959-Phosphothreonine;S960-Phosphoserine;S962-Phosphoserine;S963-Phosphoserine;S967-Phosphoserine;S971-Phosphoserine;S981-Phosphoserine;S1019-Phosphoserine;S1024-Phosphoserine;Y1025-Phosphotyrosine;S1046-Phosphoserine;S1048-Phosphoserine;Y1055-Phosphotyrosine;T1105-Phosphothreonine;T1107-Phosphothreonine;S1113-Phosphoserine;S1117-Phosphoserine;S1119-Phosphoserine;S1124-Phosphoserine;S1126-Phosphoserine;Y1131-Phosphotyrosine;S1135-Phosphoserine;T1139-Phosphothreonine;S1142-Phosphoserine;S1143-Phosphoserine;Y1144-Phosphotyrosine;S1145-Phosphoserine;S1146-Phosphoserine;Y1149-Phosphotyrosine;S1150-Phosphoserine;S1155-Phosphoserine;S1156-Phosphoserine;S1157-Phosphoserine;S1160-Phosphoserine;S1167-Phosphoserine;T1173-Phosphothreonine;S1177-Phosphoserine;T1184-Phosphothreonine;T1189-Phosphothreonine;S1192-Phosphoserine;S1209-Phosphoserine;S1232-Phosphoserine;S1243-Phosphoserine;Y1254-Phosphotyrosine;S1257-Phosphoserine;T1265-Phosphothreonine;T1266-Phosphothreonine;S1269-Phosphoserine;S1271-Phosphoserine;S1294-Phosphoserine;S1297-Phosphoserine;S1307-Phosphoserine;S1309-Phosphoserine;S1314-Phosphoserine;Y1323-Phosphotyrosine;Y1326-Phosphotyrosine;S1327-Phosphoserine;T1328-Phosphothreonine;T1335-Phosphothreonine;S1337-Phosphoserine;S1340-Phosphoserine;S1341-Phosphoserine;S1343-Phosphoserine;Y1345-Phosphotyrosine;S1349-Phosphoserine;S1352-Phosphoserine;Y1359-Phosphotyrosine;S1371-Phosphoserine;S1381-Phosphoserine;T1383-Phosphothreonine;S1393-Phosphoserine;S1400-Phosphoserine;Y1404-Phosphotyrosine;T1406-Phosphothreonine;S1413-Phosphoserine;S1417-Phosphoserine;S1420-Phosphoserine;S1421-Phosphoserine;S1423-Phosphoserine;S1426-Phosphoserine;Y1440-Phosphotyrosine;S1441-Phosphoserine;S1446-Phosphoserine;Y1462-Phosphotyrosine;S1490-Phosphoserine;S1492-Phosphoserine;T1509-Phosphothreonine;S1579-Phosphoserine;S1583-Phosphoserine;S1588-Phosphoserine;T1589-Phosphothreonine;T1665-Phosphothreonine;T1667-Phosphothreonine;K69-Ubiquitination;K249-Ubiquitination;K290-Ubiquitination;K437-Ubiquitination;K1454-Ubiquitination;K1580-Ubiquitination;R781-Methylation\n",
      "[(1019, 'S', 'Phosphoserine', 'different amino acid')]\n",
      "Wrote these feature files:\n",
      "['Data/Example_All_IPR/Uniprot_Reference/Features_relative_to_reference/PTM_features/PHOSPHOSITE_PLUS/IPR000980_Phosphotyrosine.feature', 'Data/Example_All_IPR/Uniprot_Reference/Features_relative_to_reference/PTM_features/PHOSPHOSITE_PLUS/IPR000980_Ubiquitination.feature', 'Data/Example_All_IPR/Uniprot_Reference/Features_relative_to_reference/PTM_features/PHOSPHOSITE_PLUS/IPR000980_Acetylation.feature', 'Data/Example_All_IPR/Uniprot_Reference/Features_relative_to_reference/PTM_features/PHOSPHOSITE_PLUS/IPR000980_Phosphothreonine.feature', 'Data/Example_All_IPR/Uniprot_Reference/Features_relative_to_reference/PTM_features/PHOSPHOSITE_PLUS/IPR000980_Phosphoserine.feature']\n",
      "These belong to the following fasta file:\n",
      "Data/Example_All_IPR/Uniprot_Reference/SH2_IPR000980.fasta\n",
      "{'Phosphotyrosine': 178, 'Ubiquitination': 165, 'Acetylation': 34, 'Phosphothreonine': 63, 'Phosphoserine': 148, 'Sumoylation': 4, 'Methylation': 3, 'Dimethylation': 2}\n"
     ]
    }
   ],
   "source": [
    "feature_dir_psite = feature_dir + 'PHOSPHOSITE_PLUS/'\n",
    "ptm_feature_file_list_psite, ptm_count_dict, ptm_feature_dict, mapping_dict = CoDIAC.PTM.write_PTM_features(Interpro_ID, uniprot_reference_file, feature_dir_psite, mapping_file, N_OFFSET, C_OFFSET, gap_threshold=0.7, num_PTM_threshold = 5, PHOSPHOSITE_PLUS=True)\n",
    "print(\"Wrote these feature files:\")\n",
    "print(ptm_feature_file_list_psite)\n",
    "print(\"These belong to the following fasta file:\")\n",
    "print(output_fasta) #comes from block above - the short header format of the fasta header\n",
    "print(ptm_count_dict)"
   ]
  },
  {
   "cell_type": "markdown",
   "metadata": {},
   "source": [
    "### Step 8 combine feature files from ProteomeScout and PhosphoSitePlus and generate annotation tracks."
   ]
  },
  {
   "cell_type": "markdown",
   "metadata": {},
   "source": [
    "#paired list\n",
    "\n"
   ]
  },
  {
   "cell_type": "code",
   "execution_count": 24,
   "metadata": {},
   "outputs": [
    {
     "ename": "FileNotFoundError",
     "evalue": "[Errno 2] No such file or directory: 'Data/Uniprot_Reference/Features_relative_to_reference/PTM_features/ProteomeScout/IPR000980_N6-acetyllysine.feature'",
     "output_type": "error",
     "traceback": [
      "\u001b[0;31m---------------------------------------------------------------------------\u001b[0m",
      "\u001b[0;31mFileNotFoundError\u001b[0m                         Traceback (most recent call last)",
      "Cell \u001b[0;32mIn[24], line 16\u001b[0m\n\u001b[1;32m     14\u001b[0m \u001b[38;5;28;01mfor\u001b[39;00m mod \u001b[38;5;129;01min\u001b[39;00m pairs\u001b[38;5;241m.\u001b[39mkeys():\n\u001b[1;32m     15\u001b[0m     feature_file \u001b[38;5;241m=\u001b[39m output_dir\u001b[38;5;241m+\u001b[39m\u001b[38;5;124m'\u001b[39m\u001b[38;5;124mSH2_IPR000980_\u001b[39m\u001b[38;5;124m'\u001b[39m\u001b[38;5;241m+\u001b[39mmod\u001b[38;5;241m+\u001b[39m\u001b[38;5;124m'\u001b[39m\u001b[38;5;124m.feature\u001b[39m\u001b[38;5;124m'\u001b[39m\n\u001b[0;32m---> 16\u001b[0m     feature_combined, feature_color_dict \u001b[38;5;241m=\u001b[39m \u001b[43mCoDIAC\u001b[49m\u001b[38;5;241;43m.\u001b[39;49m\u001b[43mjalviewFunctions\u001b[49m\u001b[38;5;241;43m.\u001b[39;49m\u001b[43mcombine_feature_files\u001b[49m\u001b[43m(\u001b[49m\u001b[43mfeature_file\u001b[49m\u001b[43m,\u001b[49m\u001b[43m \u001b[49m\u001b[43mpairs\u001b[49m\u001b[43m[\u001b[49m\u001b[43mmod\u001b[49m\u001b[43m]\u001b[49m\u001b[43m)\u001b[49m\n\u001b[1;32m     17\u001b[0m     new_feature_files[mod] \u001b[38;5;241m=\u001b[39m feature_file\n",
      "File \u001b[0;32m~/GIT/public/CoDIAC/CoDIAC/jalviewFunctions.py:379\u001b[0m, in \u001b[0;36mcombine_feature_files\u001b[0;34m(output_file, feature_file_list)\u001b[0m\n\u001b[1;32m    377\u001b[0m feature_dict_arr \u001b[38;5;241m=\u001b[39m []\n\u001b[1;32m    378\u001b[0m \u001b[38;5;28;01mfor\u001b[39;00m file \u001b[38;5;129;01min\u001b[39;00m feature_file_list:\n\u001b[0;32m--> 379\u001b[0m     color, feature_dict \u001b[38;5;241m=\u001b[39m \u001b[43mreturn_features_from_file\u001b[49m\u001b[43m(\u001b[49m\u001b[43mfile\u001b[49m\u001b[43m)\u001b[49m\n\u001b[1;32m    380\u001b[0m     feature_colors\u001b[38;5;241m.\u001b[39mappend(color)\n\u001b[1;32m    381\u001b[0m     feature_dict_arr\u001b[38;5;241m.\u001b[39mappend(feature_dict)\n",
      "File \u001b[0;32m~/GIT/public/CoDIAC/CoDIAC/jalviewFunctions.py:41\u001b[0m, in \u001b[0;36mreturn_features_from_file\u001b[0;34m(file)\u001b[0m\n\u001b[1;32m     39\u001b[0m feature_colors \u001b[38;5;241m=\u001b[39m {}\n\u001b[1;32m     40\u001b[0m seq_dict \u001b[38;5;241m=\u001b[39m {}\n\u001b[0;32m---> 41\u001b[0m lines \u001b[38;5;241m=\u001b[39m \u001b[38;5;28;43mopen\u001b[39;49m\u001b[43m(\u001b[49m\u001b[43mfile\u001b[49m\u001b[43m,\u001b[49m\u001b[43m \u001b[49m\u001b[38;5;124;43m'\u001b[39;49m\u001b[38;5;124;43mr\u001b[39;49m\u001b[38;5;124;43m'\u001b[39;49m\u001b[43m)\u001b[49m\n\u001b[1;32m     42\u001b[0m \u001b[38;5;28;01mfor\u001b[39;00m line \u001b[38;5;129;01min\u001b[39;00m lines:\n\u001b[1;32m     43\u001b[0m     line \u001b[38;5;241m=\u001b[39m line\u001b[38;5;241m.\u001b[39mstrip()\n",
      "\u001b[0;31mFileNotFoundError\u001b[0m: [Errno 2] No such file or directory: 'Data/Uniprot_Reference/Features_relative_to_reference/PTM_features/ProteomeScout/IPR000980_N6-acetyllysine.feature'"
     ]
    }
   ],
   "source": [
    "pairs = {}\n",
    "\n",
    "proteomescout_base = feature_dir_prot+'/IPR000980_'\n",
    "PSP_base = feature_dir_psite+'/IPR000980_'\n",
    "pairs['N6-acetyllysine'] = [proteomescout_base+'N6-acetyllysine.feature', PSP_base+'Acetylation.feature']\n",
    "pairs['Phosphoserine'] = [proteomescout_base+'Phosphoserine.feature', PSP_base+'Phosphoserine.feature']\n",
    "pairs['Phosphothreonine'] = [proteomescout_base+'Phosphothreonine.feature', PSP_base+'Phosphothreonine.feature']\n",
    "pairs['Phosphotyrosine'] = [proteomescout_base+'Phosphotyrosine.feature', PSP_base+'Phosphotyrosine.feature']\n",
    "pairs['Ubiquitination'] = [proteomescout_base+'Ubiquitination.feature', PSP_base+'Ubiquitination.feature']\n",
    "\n",
    "output_dir = feature_dir+'Combined/'\n",
    "new_feature_files = {}\n",
    "\n",
    "for mod in pairs.keys():\n",
    "    feature_file = output_dir+'SH2_IPR000980_'+mod+'.feature'\n",
    "    feature_combined, feature_color_dict = CoDIAC.jalviewFunctions.combine_feature_files(feature_file, pairs[mod])\n",
    "    new_feature_files[mod] = feature_file\n"
   ]
  },
  {
   "cell_type": "code",
   "execution_count": 25,
   "metadata": {},
   "outputs": [
    {
     "data": {
      "text/plain": [
       "'Data/Example_All_IPR/Uniprot_Reference/Features_relative_to_reference/PTM_features/'"
      ]
     },
     "execution_count": 25,
     "metadata": {},
     "output_type": "execute_result"
    }
   ],
   "source": [
    "feature_dir"
   ]
  }
 ],
 "metadata": {
  "kernelspec": {
   "display_name": "Python 3 (ipykernel)",
   "language": "python",
   "name": "python3"
  },
  "language_info": {
   "codemirror_mode": {
    "name": "ipython",
    "version": 3
   },
   "file_extension": ".py",
   "mimetype": "text/x-python",
   "name": "python",
   "nbconvert_exporter": "python",
   "pygments_lexer": "ipython3",
   "version": "3.9.16"
  }
 },
 "nbformat": 4,
 "nbformat_minor": 2
}
